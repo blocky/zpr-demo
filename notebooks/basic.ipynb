{
 "cells": [
  {
   "cell_type": "markdown",
   "metadata": {
    "id": "dphqD4pMxXYf"
   },
   "source": [
    "# BLOCKY Zipperchain Demo"
   ]
  },
  {
   "cell_type": "markdown",
   "metadata": {
    "id": "Xq9EdvGluif5"
   },
   "source": [
    "At BLOCKY, we help you trust your data by allowing you to validate the integrity of your files. With BLOCKY, you can sign files onto Zipperchain, our custom blockchain, and retrieve certificates of signed data.\n",
    "\n",
    "This demo introduces you to the basics of Zipperchain."
   ]
  },
  {
   "cell_type": "markdown",
   "metadata": {
    "id": "q5aDA-bRvlF0"
   },
   "source": [
    "In this demo we will be:\n",
    "\n",
    "* Setting up our Collaboratory environment.\n",
    "* Creating data to sign onto Zipperchain.\n",
    "* Signing data onto Zipperchain.\n",
    "* Fetching the receipt of our data that locates our signed data on Zipperchain. \n",
    "* Fetching the certificate that document the state of our signed data.\n",
    "* Verifying that the certificate matches our local data.\n",
    "\n",
    "This demo uses the testnet version of Zipperchain so be mindful that anything recorded here will likely be deleted at some point!\n",
    "\n",
    "You will notice we are using Colaboratory, a free Jupyter notebook environment provided by Google, for this demonstration. If this is your first time playing with a Colaboratory/Jupyter notebook, here are some tips:\n",
    "\n",
    "* To run the code cells in this procedure, click on it and then click on the <img src=\"https://blocky-public.s3.amazonaws.com/play_dark.png\" alt=\"Play button.\" width=\"18\"/> button. \n",
    "* Python is Collaboratory's language of choice, so that is what we are using here.\n",
    "* The `!` triggers a shell commands within a Colaboratory notebook.\n"
   ]
  },
  {
   "cell_type": "markdown",
   "metadata": {
    "id": "GWpKhOB8nCSz"
   },
   "source": [
    "# Setting Up"
   ]
  },
  {
   "cell_type": "markdown",
   "metadata": {
    "id": "f23gB9aZzRwM"
   },
   "source": [
    "To begin, let's install a few Python libraries to support us in our journey."
   ]
  },
  {
   "cell_type": "code",
   "execution_count": null,
   "metadata": {},
   "outputs": [],
   "source": [
    "! pip install requests"
   ]
  },
  {
   "cell_type": "code",
   "execution_count": null,
   "metadata": {
    "id": "wTd5TkxT5Ux_"
   },
   "outputs": [],
   "source": [
    "# import libraries\n",
    "import uuid\n",
    "import hashlib\n",
    "import requests\n",
    "import pprint"
   ]
  },
  {
   "cell_type": "markdown",
   "metadata": {
    "id": "CYAlTX1tnNuJ"
   },
   "source": [
    "# Creating Data"
   ]
  },
  {
   "cell_type": "markdown",
   "metadata": {
    "id": "2vQXr0q-z0S_"
   },
   "source": [
    "In order to sign some data, we need to create some data. Zipperchain can store almost any kind of data, from text files to database backups. For this tutorial, we'll create a text file for us to use and take a look at the contents with the `cat` command."
   ]
  },
  {
   "cell_type": "code",
   "execution_count": null,
   "metadata": {
    "id": "TM2nga8AEtja"
   },
   "outputs": [],
   "source": [
    "# create data\n",
    "! echo \"It's $(date) and I am awesome!\" > example.txt\n",
    "! cat example.txt"
   ]
  },
  {
   "cell_type": "markdown",
   "metadata": {
    "id": "6Prnlwnzn7OX"
   },
   "source": [
    "Throughout this demo we will be using this data in our interactions with Zipperchain.\n",
    "\n"
   ]
  },
  {
   "cell_type": "markdown",
   "metadata": {
    "id": "0pdEcbUxzTo8"
   },
   "source": [
    "# Signing Data"
   ]
  },
  {
   "cell_type": "markdown",
   "metadata": {
    "id": "wSKNRtuRapO3"
   },
   "source": [
    "Now let's write a signature of the data onto the Zipperchain blockchain. Signing data requires two inputs: a user ID and our data. So first, let's generate a unique user ID for our session."
   ]
  },
  {
   "cell_type": "code",
   "execution_count": null,
   "metadata": {
    "id": "mvih7yWu8ntH"
   },
   "outputs": [],
   "source": [
    "# create user id\n",
    "signer_id = str(uuid.uuid4())\n",
    "print(signer_id)"
   ]
  },
  {
   "cell_type": "markdown",
   "metadata": {
    "id": "AAHVmAyPo6xw"
   },
   "source": [
    "Next, becuase we want to verify the integrity of our local data, let's generate a hash of our file and take a look at it."
   ]
  },
  {
   "cell_type": "code",
   "execution_count": null,
   "metadata": {
    "id": "z_MG5UPCj9Zc"
   },
   "outputs": [],
   "source": [
    "# create hash\n",
    "with open(\"example.txt\") as f:\n",
    "  data = f.read().encode('ascii', 'replace')\n",
    "  content_hash = hashlib.sha256(data).hexdigest()\n",
    "print(content_hash)"
   ]
  },
  {
   "cell_type": "markdown",
   "metadata": {
    "id": "w2BAFQHhpI9i"
   },
   "source": [
    "Now we have everything we need to write to Zipperchain. To do this, we are going to combine our user ID and hash into a payload which we deliver to Zipperchain as a REST API POST request. After this runs, let's check the response to be sure the request was accepted. "
   ]
  },
  {
   "cell_type": "code",
   "execution_count": null,
   "metadata": {
    "id": "8hRAinsbtjwe"
   },
   "outputs": [],
   "source": [
    "# sign data\n",
    "payload = {'signer_id': signer_id, 'data': content_hash}\n",
    "response = requests.post('http://demo.zpr.bky.sh:3001/receipt', json=payload)\n",
    "print(response)"
   ]
  },
  {
   "cell_type": "markdown",
   "metadata": {
    "id": "5jKCX1jx2TZW"
   },
   "source": [
    "Great, now we have data signed onto Zipperchain!\n",
    "\n",
    "What just happened?\n",
    "* The call took in our `payload` and sent it to the Zipperchain API.\n",
    "* The server recorded the request in its database and then sent the data to the Zipperchain blockchain.\n",
    "* The server recorded a certificate of the file signature (containing our user ID and the hash of `example.txt`).\n",
    "* We know the submission was successful by the `202` response from the server.\n",
    "\n",
    "That means that Zipperchain has now recorded the user ID and hash! Now we are ready to fetch our entry.\n"
   ]
  },
  {
   "cell_type": "markdown",
   "metadata": {
    "id": "fVBng4_y3uWL"
   },
   "source": [
    "# Fetching the Receipt"
   ]
  },
  {
   "cell_type": "markdown",
   "metadata": {
    "id": "iIGsBLjL3xXq"
   },
   "source": [
    "In order to verify our data, first we need the receipt of our entry from Zipperchain so we can locate the signature.  This takes in your `userID` and `Data` and returns a `receipt` of the entry. Once we process this request, let's take a look at its contents."
   ]
  },
  {
   "cell_type": "code",
   "execution_count": null,
   "metadata": {
    "id": "ZV6mePu_tyqf"
   },
   "outputs": [],
   "source": [
    "# fetch receipt\n",
    "response = requests.get(f'http://demo.zpr.bky.sh:3001/receipt?signer_id={signer_id}&data={content_hash}')\n",
    "receipt = response.json()[0]\n",
    "pprint.pprint(receipt)"
   ]
  },
  {
   "cell_type": "markdown",
   "metadata": {
    "id": "8hytSZEzsrNw"
   },
   "source": [
    "The request has returned a JSON receipt of our Zipperchain entry with 4 fields:    \n",
    "* **block_num:** the block number of the Zipperchain entry\n",
    "* **branch:** the location of our entry within the block\n",
    "* **signature:** the data that we included in our signature\n",
    "* **zigzag_id:** the...\n",
    "\n",
    "With this receipt we can now request the certificate of our data, which pulls our entry directly from Zipperchain and can be used to attest to the integrity of our local file.\n"
   ]
  },
  {
   "cell_type": "markdown",
   "metadata": {
    "id": "LfoZL9a1vuJK"
   },
   "source": [
    "# Fetching the Certificate"
   ]
  },
  {
   "cell_type": "markdown",
   "metadata": {
    "id": "4v9kXXPLv3F0"
   },
   "source": [
    "Now let's fetch our certificate which attests to the data we submitted to Zipperchain. To do this, we will send a POST request to Zipperchain which includes our `receipt`. Once this request is complete, let's look at the response."
   ]
  },
  {
   "cell_type": "code",
   "execution_count": null,
   "metadata": {
    "id": "hu3-QXxv98dC"
   },
   "outputs": [],
   "source": [
    "# fetch certificate\n",
    "response = requests.post('http://demo.zpr.bky.sh:3001/certificate', json=receipt)\n",
    "print(response)\n",
    "certificate = response.json()\n",
    "pprint.pprint(certificate)"
   ]
  },
  {
   "cell_type": "markdown",
   "metadata": {
    "id": "hgZvO4OtwZBq"
   },
   "source": [
    "The request returned another JSON with our certificate data which includes 3 fields:    \n",
    "* **lower_bound:** this is the timestamp of the Attestation (link to Zipper white paper) which preceded the block where our data is stored\n",
    "* **receipt:** this is the data from Zipperchain which describes the block, block location, signature data, and Zigzag ID of our data\n",
    "* **upper_bound:** this is the timestamp of the attestation (link to Zipper white paper) which followed our block\n",
    "\n",
    "This certificate is the Zipperchain source of truth for the data we entered.  We can see our user ID and data hash we included in this entry by looking at the `signature` field of the response."
   ]
  },
  {
   "cell_type": "code",
   "execution_count": null,
   "metadata": {
    "id": "45xe9yoWxtbw"
   },
   "outputs": [],
   "source": [
    "# signed data\n",
    "print(certificate['receipt']['signature'])"
   ]
  },
  {
   "cell_type": "markdown",
   "metadata": {
    "id": "aG-mkP8Dx-n8"
   },
   "source": [
    "# Verifying Data"
   ]
  },
  {
   "cell_type": "markdown",
   "metadata": {
    "id": "xdFt5YD24sYz"
   },
   "source": [
    "To conclude this demo, we want to make sure our local data matches the certificate. Let's isolate the hash of our data in the certificate (`zipper_sig`) and compare that to the hash of the data we created earlier in this demo (`content_hash`)."
   ]
  },
  {
   "cell_type": "code",
   "execution_count": null,
   "metadata": {
    "id": "cxerswqxRMfV"
   },
   "outputs": [],
   "source": [
    "zipper_sig = certificate['receipt']['signature']['data']\n",
    "print(zipper_sig == content_hash)"
   ]
  },
  {
   "cell_type": "markdown",
   "metadata": {
    "id": "NvHj3q58Rj36"
   },
   "source": [
    "Hurray! Our local data and the entry on Zipperchain match! \n",
    "\n",
    "This concludes the demo for Zipperchain. Thanks for taking a look and feel free to reach out to taylor@blocky.rocks with any questions or comments."
   ]
  }
 ],
 "metadata": {
  "colab": {
   "name": "ZPR Demo V1",
   "private_outputs": true,
   "provenance": []
  },
  "kernelspec": {
   "display_name": "Python 3 (ipykernel)",
   "language": "python",
   "name": "python3"
  },
  "language_info": {
   "codemirror_mode": {
    "name": "ipython",
    "version": 3
   },
   "file_extension": ".py",
   "mimetype": "text/x-python",
   "name": "python",
   "nbconvert_exporter": "python",
   "pygments_lexer": "ipython3",
   "version": "3.9.7"
  }
 },
 "nbformat": 4,
 "nbformat_minor": 1
}
